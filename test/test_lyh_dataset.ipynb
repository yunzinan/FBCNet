{
 "cells": [
  {
   "cell_type": "markdown",
   "metadata": {},
   "source": [
    "this code is for used to play with the lyh dataset, for testing the data loader"
   ]
  },
  {
   "cell_type": "code",
   "execution_count": 1,
   "metadata": {},
   "outputs": [],
   "source": [
    "import numpy as np"
   ]
  },
  {
   "cell_type": "code",
   "execution_count": 8,
   "metadata": {},
   "outputs": [],
   "source": [
    "        # get all the data first\n",
    "        left_raw = np.load('../data/lyh/left_processed.npy') # label: 0\n",
    "        right_raw = np.load('../data/lyh/right_processed.npy') # label: 1\n",
    "        leg_raw = np.load('../data/lyh/left_processed.npy') # label: 2\n",
    "        nothing_raw = np.load('../data/lyh/nothing_processed.npy') # label: 3\n",
    "        eeg_raw = [left_raw, right_raw, leg_raw, nothing_raw]\n",
    "\n",
    "        X_tot = []\n",
    "        y_tot = []\n",
    "\n",
    "\n",
    "        for i in range(4):\n",
    "            # XXX: fixed the bug that you cannot simply reshape the files\n",
    "            # tmp = eeg_raw[i].reshape(15, 300, -1) # (15, 30_0000) => (15, 300, 1000)\n",
    "            # goal: (15, 30_0000) => (15, 300, 1000)\n",
    "            trial_list = []\n",
    "            for idx in range(300):\n",
    "                trial_list.append(eeg_raw[i][:, idx * 1000:(idx + 1) * 1000]) # [1000:2000]\n",
    "            # now we have of a list of len 300, w/ each of shape (15, 1000)\n",
    "            tmp = np.stack(trial_list) # should give a shape of (300, 15, 1000)\n",
    "            X_raw = tmp[:, :14, :] # filter the channels, only need the first 14 channels\n",
    "            # (300, 14, 1000)\n",
    "            y_raw = np.array([i for j in range(300)]) # (300,) value = label\n",
    "            X_tot.append(X_raw)\n",
    "            y_tot.append(y_raw)\n",
    "\n",
    "\n",
    "        X_tot = np.concatenate(X_tot)\n",
    "        y_tot = np.concatenate(y_tot)\n",
    "\n",
    "        # print(X_tot.shape, y_tot.shape) # (1200, 14, 1000), (1200,)\n",
    "    \n",
    "\n",
    "        train_data = X_tot # (1200, 14, 1000)\n",
    "        train_label = y_tot.reshape(1200, 1) # (1200, 1)\n",
    "        \n",
    "        allData = train_data # (1200, 14, 1000)\n",
    "        allLabel = train_label.squeeze() # (1200, )\n",
    "\n",
    "        shuffle_num = np.random.permutation(len(allData))\n",
    "        # print(f\"Shuffle num {shuffle_num}\")\n",
    "        allData = allData[shuffle_num, :, :]\n",
    "        allLabel = allLabel[shuffle_num]\n",
    "\n",
    "        # now transpose the dimension to (n_chans, n_times, n_trial)\n",
    "        allData = allData.transpose((1, 2, 0))"
   ]
  },
  {
   "cell_type": "code",
   "execution_count": 9,
   "metadata": {},
   "outputs": [
    {
     "data": {
      "text/plain": [
       "(14, 1000, 1200)"
      ]
     },
     "execution_count": 9,
     "metadata": {},
     "output_type": "execute_result"
    }
   ],
   "source": [
    "allData.shape"
   ]
  },
  {
   "cell_type": "code",
   "execution_count": 11,
   "metadata": {},
   "outputs": [
    {
     "data": {
      "text/plain": [
       "array([3, 2, 2, ..., 0, 0, 1])"
      ]
     },
     "execution_count": 11,
     "metadata": {},
     "output_type": "execute_result"
    }
   ],
   "source": [
    "allLabel"
   ]
  }
 ],
 "metadata": {
  "kernelspec": {
   "display_name": "fbc",
   "language": "python",
   "name": "python3"
  },
  "language_info": {
   "codemirror_mode": {
    "name": "ipython",
    "version": 3
   },
   "file_extension": ".py",
   "mimetype": "text/x-python",
   "name": "python",
   "nbconvert_exporter": "python",
   "pygments_lexer": "ipython3",
   "version": "3.7.16"
  }
 },
 "nbformat": 4,
 "nbformat_minor": 2
}
